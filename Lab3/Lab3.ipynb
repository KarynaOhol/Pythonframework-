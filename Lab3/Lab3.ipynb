{
 "cells": [
  {
   "cell_type": "markdown",
   "metadata": {},
   "source": [
    "# Laboratory work 3 \n",
    "## Variant 9"
   ]
  },
  {
   "cell_type": "markdown",
   "metadata": {},
   "source": [
    "### 1. Modelling and solving linear programming problem:"
   ]
  },
  {
   "cell_type": "markdown",
   "metadata": {},
   "source": [
    "### a. Choose assignment according to the number in the group journal\n",
    "> 9. Using certain equipment, the enterprise can produce 400 products of type P1, or\n",
    "100 products of type P2 per shift, the costs of each product are $18 and $54 per\n",
    "unit. Make a production plan that would ensure maximum profit, if the painting\n",
    "shop can process no more than 300 products of any type per shift.\n"
   ]
  },
  {
   "cell_type": "markdown",
   "metadata": {},
   "source": [
    "### b. Describe the entered variables.\n",
    "| Product | P1 | P2 | Amount |\n",
    "| :--- | --- | --- | --- |\n",
    "| per shift | 400 | 100 | 300 |\n",
    "| Profit | 18 | 54 |  |"
   ]
  },
  {
   "cell_type": "markdown",
   "metadata": {},
   "source": [
    "### c. Create a mathematical model of the problem.\n",
    "\\begin{equation}\n",
    "    \\bar F(x)=18x_1+54x_2\\to max\n",
    "\\end{equation}\n",
    "\n",
    " \\begin{cases}\n",
    "   x_1\\leq 400 \n",
    "   \\\\\n",
    "   x_2\\leq 100\n",
    "   \\\\\n",
    "   x_1+x_2\\leq 300,\n",
    "   \\\\\n",
    "   x_1,x_2\\geq 0\n",
    " \\end{cases}"
   ]
  },
  {
   "cell_type": "markdown",
   "metadata": {},
   "source": [
    "### d. Find the solution using graphical representation of linear programming problem. The figure should contain lines with their equations, shaded halfplane that satisfy the original inequalities, the feasible region, the point of optimal solution, level curve."
   ]
  },
  {
   "cell_type": "code",
   "execution_count": 134,
   "metadata": {},
   "outputs": [
    {
     "data": {
      "image/png": "[encoded data removed]",
      "text/plain": [
       "<Figure size 432x288 with 1 Axes>"
      ]
     },
     "metadata": {
      "needs_background": "light"
     },
     "output_type": "display_data"
    }
   ],
   "source": [
    "import numpy as np\n",
    "import matplotlib.pyplot as plt\n",
    "\n",
    "def L(x1):\n",
    "    return (9000-18*x1)/54\n",
    "\n",
    "\n",
    "def a3(x1):\n",
    "    return 300-x1\n",
    "\n",
    "x1 = np.arange(0, 1000, 1)\n",
    "plt.axis([0,500,0,500])\n",
    "plt.grid(True)\n",
    "\n",
    "plt.plot([0,600],[100,100])\n",
    "plt.fill_between([0,600],[100,100], alpha=0.3)\n",
    "\n",
    "plt.plot([400,400],[0,600])\n",
    "plt.fill_between([0,400],[600,600], alpha=0.05)\n",
    "\n",
    "plt.plot(x1,a3(x1))\n",
    "plt.fill_between(x1,a3(x1), alpha=0.4)\n",
    "\n",
    "plt.plot(x1,L(x1))\n",
    "\n",
    "plt.plot(200,100,'ro')\n",
    "\n",
    "plt.annotate('max',xy=(200,100),xytext=(300,200),arrowprops=dict(arrowstyle='simple'))\n",
    "plt.annotate('', xy=(2,L(2)+3),xytext=(1,L(1)), arrowprops=dict(arrowstyle='->'))\n",
    "\n",
    "plt.text(100,50,\"feasible set\")\n",
    "plt.text(410,300,'x1<=400', rotation=-90)\n",
    "plt.text(420,120,'x2<=100')\n",
    "plt.text(50,190,'x1+x2<=300', rotation=-30)\n",
    "plt.text(30,130,'L=18x1+54x2', rotation=-15)\n",
    "\n",
    "plt.title('Graphical solution')\n",
    "plt.xlabel('x1')\n",
    "plt.ylabel('x2')\n",
    "\n",
    "plt.show()"
   ]
  },
  {
   "cell_type": "markdown",
   "metadata": {},
   "source": [
    "### e. Solve the problem using scipy.optimize."
   ]
  },
  {
   "cell_type": "code",
   "execution_count": 6,
   "metadata": {},
   "outputs": [
    {
     "name": "stdout",
     "output_type": "stream",
     "text": [
      "Collecting scipy\n",
      "  Downloading scipy-1.5.4-cp37-cp37m-win_amd64.whl (31.2 MB)\n",
      "Requirement already satisfied: numpy>=1.14.5 in c:\\users\\karina\\anaconda3\\envs\\first\\lib\\site-packages (from scipy) (1.19.4)\n",
      "Installing collected packages: scipy\n",
      "Successfully installed scipy-1.5.4\n"
     ]
    },
    {
     "name": "stderr",
     "output_type": "stream",
     "text": [
      "ERROR: Could not find a version that satisfies the requirement scipy.optimize (from versions: none)\n",
      "ERROR: No matching distribution found for scipy.optimize\n"
     ]
    }
   ],
   "source": [
    "import sys\n",
    "!{sys.executable} -m pip install scipy.optimize"
   ]
  },
  {
   "cell_type": "code",
   "execution_count": 26,
   "metadata": {},
   "outputs": [
    {
     "name": "stdout",
     "output_type": "stream",
     "text": [
      "     con: array([], dtype=float64)\n",
      "     fun: -8999.999920706574\n",
      " message: 'Optimization terminated successfully.'\n",
      "     nit: 5\n",
      "   slack: array([2.00000002e+02, 9.02401752e-07, 2.60038689e-06])\n",
      "  status: 0\n",
      " success: True\n",
      "       x: array([199.9999983,  99.9999991])\n",
      "Time :0.006980180740356445\n"
     ]
    }
   ],
   "source": [
    "from scipy.optimize import linprog\n",
    "import time\n",
    "start=time.time()\n",
    "Fc=[-18.0,-54.0]\n",
    "A=[[1.0,0.0],\n",
    "  [0.0,1.0],\n",
    "  [1.0,1.0]]\n",
    "B=[400.0,100.0,300.0]\n",
    "x1_bounds=(0,None)\n",
    "x2_bounds=(0,None)\n",
    "res=linprog(Fc, A_ub=A, b_ub=B,bounds=[x1_bounds,x2_bounds])\n",
    "print(res)\n",
    "stop=time.time()\n",
    "scipy_time = stop-start\n",
    "print(\"Time :\"+str(scipy_time))"
   ]
  },
  {
   "cell_type": "markdown",
   "metadata": {},
   "source": [
    "### f. Solve the problem using pulp.LpProblem."
   ]
  },
  {
   "cell_type": "code",
   "execution_count": 16,
   "metadata": {},
   "outputs": [
    {
     "name": "stdout",
     "output_type": "stream",
     "text": [
      "Collecting git+https://github.com/coin-or/pulp\n",
      "  Cloning https://github.com/coin-or/pulp to c:\\users\\karina\\appdata\\local\\temp\\pip-req-build-d17cuavx\n",
      "Collecting amply>=0.1.2\n",
      "  Downloading amply-0.1.4-py3-none-any.whl (16 kB)\n",
      "Requirement already satisfied, skipping upgrade: pyparsing in c:\\users\\karina\\anaconda3\\envs\\first\\lib\\site-packages (from amply>=0.1.2->PuLP==2.3.1) (2.4.7)\n",
      "Collecting docutils>=0.3\n",
      "  Downloading docutils-0.16-py2.py3-none-any.whl (548 kB)\n",
      "Building wheels for collected packages: PuLP\n",
      "  Building wheel for PuLP (setup.py): started\n",
      "  Building wheel for PuLP (setup.py): finished with status 'done'\n",
      "  Created wheel for PuLP: filename=PuLP-2.3.1-py3-none-any.whl size=40576172 sha256=a20d7795987d0ef05e20dd07288395854704d9ab42871941b5e85203027fe5c7\n",
      "  Stored in directory: C:\\Users\\karina\\AppData\\Local\\Temp\\pip-ephem-wheel-cache-jf__2a7u\\wheels\\61\\d5\\55\\f728ef0e5aff5e8ff291c4257c888197b56b236e75a286ae08\n",
      "Successfully built PuLP\n",
      "Installing collected packages: docutils, amply, PuLP\n",
      "Successfully installed PuLP-2.3.1 amply-0.1.4 docutils-0.16\n"
     ]
    }
   ],
   "source": [
    "import sys\n",
    "!{sys.executable} -m pip install -U git+https://github.com/coin-or/pulp"
   ]
  },
  {
   "cell_type": "code",
   "execution_count": 27,
   "metadata": {},
   "outputs": [
    {
     "name": "stdout",
     "output_type": "stream",
     "text": [
      "Result:\n",
      "x1  =  200.0\n",
      "x2  =  100.0\n",
      "Income: 9000.0\n",
      "Time :0.016955137252807617\n"
     ]
    }
   ],
   "source": [
    "from pulp import *\n",
    "import time\n",
    "start=time.time()\n",
    "x1=pulp.LpVariable(\"x1\",lowBound=0)\n",
    "x2=pulp.LpVariable(\"x2\",lowBound=0)\n",
    "problem=pulp.LpProblem('0',LpMaximize)\n",
    "problem+= 18*x1+54*x2\n",
    "problem+= x1<=400\n",
    "problem+= x2<=100\n",
    "problem+= x1+x2<=300\n",
    "problem.solve()\n",
    "print(\"Result:\")\n",
    "for variable in problem.variables():\n",
    "    print(variable.name,\" = \",variable.varValue)\n",
    "print(\"Income: \" +str(value(problem.objective)))\n",
    "stop=time.time()\n",
    "pulp_time = stop-start\n",
    "print(\"Time :\"+str(pulp_time))"
   ]
  },
  {
   "cell_type": "markdown",
   "metadata": {},
   "source": [
    "### g. Compare solutions using np.allclose()."
   ]
  },
  {
   "cell_type": "code",
   "execution_count": 25,
   "metadata": {},
   "outputs": [
    {
     "data": {
      "text/plain": [
       "True"
      ]
     },
     "execution_count": 25,
     "metadata": {},
     "output_type": "execute_result"
    }
   ],
   "source": [
    "import numpy as np\n",
    "np.allclose(-res.fun, pulp.value(problem.objective))"
   ]
  },
  {
   "cell_type": "markdown",
   "metadata": {},
   "source": [
    "### h. Compare the time to solve the problem using scipy.optimize and pulp.LpProblem."
   ]
  },
  {
   "cell_type": "code",
   "execution_count": 28,
   "metadata": {},
   "outputs": [
    {
     "data": {
      "text/plain": [
       "True"
      ]
     },
     "execution_count": 28,
     "metadata": {},
     "output_type": "execute_result"
    }
   ],
   "source": [
    "pulp_time > scipy_time"
   ]
  },
  {
   "cell_type": "markdown",
   "metadata": {},
   "source": [
    "## 2. Solving transportation problem.\n",
    "\n",
    "> Transportation problem: There are 5 destinations (in columns) where the\n",
    "products/goods are to be delivered from different 4 sources (in rows). aiis the supply form each source; bi is the demand of each destination; cij is the cost when the product is delivered from i th source to j th destination. Find a transportation plan that will provide all customers  with the necessary goods at the lowest cost."
   ]
  },
  {
   "cell_type": "markdown",
   "metadata": {},
   "source": [
    "### a. Describe the entered variables."
   ]
  },
  {
   "cell_type": "markdown",
   "metadata": {},
   "source": [
    "| i/j | 1 | 2 | 3 | 4 | 5 | ai |\n",
    "| --- | --- | --- | --- | --- | --- | --- |\n",
    "| 1 | 19 | 4 | 7 | 10 | 9 | 85 |\n",
    "| 2 | 4 | 5 | 11 | 3 | 14 | 110 |\n",
    "| 3 | 15 | 10 | 6 | 5 | 9 | 65 | \n",
    "| 4 | 12 | 8 | 9 | 8 | 5 | 80 |\n",
    "| bi | 90 | 70 | 70 | 60 | 50 |340  |"
   ]
  },
  {
   "cell_type": "markdown",
   "metadata": {},
   "source": [
    "### c. Solve the problem using scipy.optimize."
   ]
  },
  {
   "cell_type": "code",
   "execution_count": 31,
   "metadata": {},
   "outputs": [
    {
     "name": "stdout",
     "output_type": "stream",
     "text": [
      "Wall time: 6.94 ms\n",
      "     con: array([0., 0., 0., 0.])\n",
      "     fun: 1675.0\n",
      " message: 'Optimization terminated successfully.'\n",
      "     nit: 19\n",
      "   slack: array([0., 0., 0., 0., 0.])\n",
      "  status: 0\n",
      " success: True\n",
      "       x: array([ 0., 70., 15.,  0.,  0., 90.,  0.,  0., 20.,  0.,  0.,  0., 25.,\n",
      "       40.,  0.,  0.,  0., 30.,  0., 50.])\n",
      "[[ 0. 70. 15.  0.  0.]\n",
      " [90.  0.  0. 20.  0.]\n",
      " [ 0.  0. 25. 40.  0.]\n",
      " [ 0.  0. 30.  0. 50.]]\n"
     ]
    }
   ],
   "source": [
    "from scipy.optimize import linear_sum_assignment\n",
    "AI = 4\n",
    "BI = 5\n",
    "\n",
    "cost = np.array([[19,4,7,10,9],[4,5,11,3,14],[15,10,6,5,9],[12,8,9,8,5]])\n",
    "demand = np.array([85,110,65,80]) # b_eq\n",
    "capacity = np.array([90,70,70,60,50])# b_ub\n",
    "\n",
    "A_eq = np.zeros(AI*BI*AI).reshape(AI, AI*BI)\n",
    "# Constraint for each source, sum over the available destinations\n",
    "for l in range(AI):\n",
    "    for var in range(l*BI, l*BI+BI):\n",
    "        A_eq[l, var] = 1\n",
    "\n",
    "A_ub = np.zeros(BI*AI*BI).reshape(BI, AI*BI)\n",
    "# Constraint for each destinations, sum over the sources\n",
    "for c in range(BI):\n",
    "    for var in range(c, AI*BI, BI):\n",
    "        A_ub[c, var] = 1\n",
    "\n",
    "%time tp_res = linprog(cost.flatten(), A_eq=A_eq, b_eq=demand, A_ub=A_ub, b_ub=capacity, method='revised simplex')\n",
    "print(tp_res)\n",
    "print(tp_res.x.reshape(AI, BI))"
   ]
  }
 ],
 "metadata": {
  "kernelspec": {
   "display_name": "Python 3",
   "language": "python",
   "name": "python3"
  },
  "language_info": {
   "codemirror_mode": {
    "name": "ipython",
    "version": 3
   },
   "file_extension": ".py",
   "mimetype": "text/x-python",
   "name": "python",
   "nbconvert_exporter": "python",
   "pygments_lexer": "ipython3",
   "version": "3.7.9"
  }
 },
 "nbformat": 4,
 "nbformat_minor": 4
}
