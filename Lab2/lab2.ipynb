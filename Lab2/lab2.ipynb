{
 "cells": [
  {
   "cell_type": "code",
   "execution_count": 3,
   "metadata": {},
   "outputs": [
    {
     "name": "stdout",
     "output_type": "stream",
     "text": [
      "Collecting numpy\n",
      "  Downloading numpy-1.19.4-cp37-cp37m-win_amd64.whl (12.9 MB)\n",
      "Installing collected packages: numpy\n",
      "Successfully installed numpy-1.19.4\n"
     ]
    }
   ],
   "source": [
    "import sys\n",
    "!{sys.executable} -m pip install numpy"
   ]
  },
  {
   "cell_type": "code",
   "execution_count": 4,
   "metadata": {},
   "outputs": [],
   "source": [
    "import numpy as np"
   ]
  },
  {
   "cell_type": "markdown",
   "metadata": {},
   "source": [
    "# Task 1 _Variant 9_"
   ]
  },
  {
   "cell_type": "markdown",
   "metadata": {},
   "source": [
    "### Excercise 1. \n",
    "Enter the number n. Output an array of size nхn, in which the\n",
    "diagonals are numbers from 1 to n, and other elements are 0"
   ]
  },
  {
   "cell_type": "code",
   "execution_count": 5,
   "metadata": {},
   "outputs": [
    {
     "name": "stdout",
     "output_type": "stream",
     "text": [
      "Enter size of matrix nxn: 6\n",
      "[[1 0 0 0 0 0]\n",
      " [0 2 0 0 0 0]\n",
      " [0 0 3 0 0 0]\n",
      " [0 0 0 4 0 0]\n",
      " [0 0 0 0 5 0]\n",
      " [0 0 0 0 0 6]]\n"
     ]
    }
   ],
   "source": [
    "try:\n",
    "    n = int(input(\"Enter size of matrix nxn: \"))\n",
    "    diag = np.arange(1,n+1,1)\n",
    "    print(np.diag(diag))\n",
    "except:\n",
    "    print(\"Error\")"
   ]
  },
  {
   "cell_type": "markdown",
   "metadata": {},
   "source": [
    "### Excercise 2. \n",
    "Enter the number n. Arrange 1 and 0 in a checkerboard pattern,\n",
    "starting with 0 in a matrix of size nхn, using slicing."
   ]
  },
  {
   "cell_type": "code",
   "execution_count": 34,
   "metadata": {},
   "outputs": [
    {
     "name": "stdout",
     "output_type": "stream",
     "text": [
      "Enter size of matrix nxn: 4\n",
      "[[0 1 0 1]\n",
      " [1 0 1 0]\n",
      " [0 1 0 1]\n",
      " [1 0 1 0]]\n"
     ]
    }
   ],
   "source": [
    "try:\n",
    "    n = int(input(\"Enter size of matrix nxn: \"))\n",
    "    arr = np.zeros((n,n), dtype=int)\n",
    "    arr[1::2,::2] = 1\n",
    "    arr[::2,1::2] = 1\n",
    "    print(arr)\n",
    "except:\n",
    "    print(\"Error\")"
   ]
  },
  {
   "cell_type": "markdown",
   "metadata": {},
   "source": [
    "### Excercise 4. \n",
    "Enter the numbers n and m. Output an array of size nхm, in which the\n",
    "first line (line with zero index) are numbers from 0 to m-1, and all other elements\n",
    "of the matrix are equal to 0."
   ]
  },
  {
   "cell_type": "code",
   "execution_count": 11,
   "metadata": {},
   "outputs": [
    {
     "name": "stdout",
     "output_type": "stream",
     "text": [
      "Enter size of matrix nxm: 4 3\n",
      "[[0 1 2]\n",
      " [0 0 0]\n",
      " [0 0 0]\n",
      " [0 0 0]]\n"
     ]
    }
   ],
   "source": [
    "try:\n",
    "    n, m = [int(i) for i in input('Enter size of matrix nxm: ').split()]\n",
    "    x = np.arange(n*m)\n",
    "    x = x.reshape(n, m)\n",
    "    x[1::, ::] = 0\n",
    "    print(x)\n",
    "except:\n",
    "    print(\"Error\")"
   ]
  },
  {
   "cell_type": "markdown",
   "metadata": {},
   "source": [
    "### Excercise 7. \n",
    "An array is entered from the keyboard. Replace all zeros with -1."
   ]
  },
  {
   "cell_type": "code",
   "execution_count": 14,
   "metadata": {},
   "outputs": [
    {
     "name": "stdout",
     "output_type": "stream",
     "text": [
      "Enter array elements 5 4 000 8 0 0 5\n",
      "[ 5  4 -1  8 -1 -1  5]\n"
     ]
    }
   ],
   "source": [
    "try:\n",
    "    arr = np.array(input(\"Enter array elements \").split(), dtype =int)\n",
    "    arr[arr==0]=-1\n",
    "    print(arr)\n",
    "except:\n",
    "    print(\"Error\")"
   ]
  },
  {
   "cell_type": "markdown",
   "metadata": {},
   "source": [
    "### Excercise 8.\n",
    "An array is entered from the keyboard. Count the number of zero and\n",
    "non-zero elements in it.\n"
   ]
  },
  {
   "cell_type": "code",
   "execution_count": 15,
   "metadata": {},
   "outputs": [
    {
     "name": "stdout",
     "output_type": "stream",
     "text": [
      "Enter array elements 8 0 6 4 000 0 7 0\n",
      "Zero elements:  4\n",
      "Non-zero elements:  4\n"
     ]
    }
   ],
   "source": [
    "try:\n",
    "    arr = np.array(input(\"Enter array elements \").split(), dtype =int)\n",
    "    print(\"Zero elements: \", len(arr[arr==0]))\n",
    "    print(\"Non-zero elements: \", len(arr[arr!=0]))\n",
    "except:\n",
    "    print(\"Error\")"
   ]
  },
  {
   "cell_type": "markdown",
   "metadata": {},
   "source": [
    "### Excercise 12.\n",
    "Create an array of 1 of size nхn and create an inside \"border\" formed\n",
    "from 0."
   ]
  },
  {
   "cell_type": "code",
   "execution_count": 17,
   "metadata": {},
   "outputs": [
    {
     "name": "stdout",
     "output_type": "stream",
     "text": [
      "Enter size of matrix nxn: 6\n",
      "[[0. 0. 0. 0. 0. 0.]\n",
      " [0. 1. 1. 1. 1. 0.]\n",
      " [0. 1. 1. 1. 1. 0.]\n",
      " [0. 1. 1. 1. 1. 0.]\n",
      " [0. 1. 1. 1. 1. 0.]\n",
      " [0. 0. 0. 0. 0. 0.]]\n"
     ]
    }
   ],
   "source": [
    "try:\n",
    "    n = int(input(\"Enter size of matrix nxn: \"))\n",
    "    arr = np.full((n,n), 1.)\n",
    "    arr[0]=0.\n",
    "    arr[-1]=0.\n",
    "    arr[:,0]=0.\n",
    "    arr[:,-1]=0.\n",
    "    print(arr)\n",
    "except:\n",
    "    print(\"Error\")"
   ]
  },
  {
   "cell_type": "markdown",
   "metadata": {},
   "source": [
    "### Excercise 13. \n",
    "Determine the index of 70-th element in a vector, if it is converted\n",
    "into a matrix of size 4x5x6."
   ]
  },
  {
   "cell_type": "code",
   "execution_count": 19,
   "metadata": {},
   "outputs": [
    {
     "name": "stdout",
     "output_type": "stream",
     "text": [
      "In matrix 4х5х6 index of 70 element : (2, 1, 3)\n"
     ]
    }
   ],
   "source": [
    "try:\n",
    "    n = 4\n",
    "    m = 5\n",
    "    k = 6\n",
    "    h = 70-1\n",
    "    x = (h // (m*k), (h % (m*k))//k, (h % (m*k)) % k)\n",
    "    print('In matrix {}х{}х{} index of {} element : {}'.format(n, m, k, h+1, str(x)))\n",
    "except:\n",
    "    print(\"Error\")"
   ]
  },
  {
   "cell_type": "markdown",
   "metadata": {},
   "source": [
    "### Excercise 15.\n",
    "Arrange 1 and 0 on the 8х8 field in a checkerboard pattern."
   ]
  },
  {
   "cell_type": "code",
   "execution_count": 21,
   "metadata": {},
   "outputs": [
    {
     "name": "stdout",
     "output_type": "stream",
     "text": [
      "Checkerboard pattern:\n",
      "[[0 1 0 1 0 1 0 1]\n",
      " [1 0 1 0 1 0 1 0]\n",
      " [0 1 0 1 0 1 0 1]\n",
      " [1 0 1 0 1 0 1 0]\n",
      " [0 1 0 1 0 1 0 1]\n",
      " [1 0 1 0 1 0 1 0]\n",
      " [0 1 0 1 0 1 0 1]\n",
      " [1 0 1 0 1 0 1 0]]\n"
     ]
    }
   ],
   "source": [
    "try:\n",
    "    x = np.ones((3,3))\n",
    "    print(\"Checkerboard pattern:\")\n",
    "    x = np.zeros((8,8),dtype=int)\n",
    "    x[1::2,::2] = 1\n",
    "    x[::2,1::2] = 1\n",
    "    print(x)\n",
    "except:\n",
    "    print(\"Error\")"
   ]
  },
  {
   "cell_type": "markdown",
   "metadata": {},
   "source": [
    "### Excercise 16.\n",
    "Fill the even columns of the matrix of nхn size with 1, and the odd\n",
    "ones with 0."
   ]
  },
  {
   "cell_type": "code",
   "execution_count": 23,
   "metadata": {},
   "outputs": [
    {
     "name": "stdout",
     "output_type": "stream",
     "text": [
      "Enter size of matrix nxn: 4\n",
      "[[0 1 0 1]\n",
      " [0 1 0 1]\n",
      " [0 1 0 1]\n",
      " [0 1 0 1]]\n"
     ]
    }
   ],
   "source": [
    "try:\n",
    "    n = int(input(\"Enter size of matrix nxn: \"))\n",
    "    arr = np.zeros((n,n), dtype=int)\n",
    "    arr[::,1::2]=1\n",
    "    print(arr)\n",
    "except:\n",
    "    print(\"Error\")"
   ]
  },
  {
   "cell_type": "markdown",
   "metadata": {},
   "source": [
    "### Excercise 20. \n",
    "Generate a vector of n elements that are evenly spaced on the\n",
    "interval (0,1) i.e. both ends of the interval are not included. Output values up to 3\n",
    "decimal places.\n"
   ]
  },
  {
   "cell_type": "code",
   "execution_count": 27,
   "metadata": {},
   "outputs": [
    {
     "name": "stdout",
     "output_type": "stream",
     "text": [
      "Enter size of vector : 10\n",
      "[0.091 0.182 0.273 0.364 0.455 0.545 0.636 0.727 0.818 0.909]\n"
     ]
    }
   ],
   "source": [
    "try:\n",
    "    n = int(input(\"Enter size of vector: \"))\n",
    "    print(np.around(np.linspace(0, 1, n+2, dtype=float),3)[1:-1:])\n",
    "except:\n",
    "    print(\"Error\")"
   ]
  },
  {
   "cell_type": "markdown",
   "metadata": {},
   "source": [
    "# Task 2 Variant 9"
   ]
  },
  {
   "cell_type": "markdown",
   "metadata": {},
   "source": [
    "### 2. Solve the system of linear equations using Cramer's formulas and perform a test using:\n",
    " a) matrix multiplication;\n",
    " b) numpy.linalg.solve().\n"
   ]
  },
  {
   "cell_type": "markdown",
   "metadata": {},
   "source": [
    "$$\\left\\{\\begin{matrix}\n",
    " x_{1}+2x_{2}+x_{3}+x_{4}=8 \\\\ \n",
    " 2x_{1}+x_{2}+x_{3}+x_{4}=5 \\\\ \n",
    " x_{1}-x_{2}+2x_{3}+x_{4}=-1\\\\ \n",
    " x_{1}+x_{2}-x_{3}+3x_{4}=10\\\\\n",
    "\\end{matrix}\\right.$$"
   ]
  },
  {
   "cell_type": "code",
   "execution_count": 33,
   "metadata": {},
   "outputs": [
    {
     "name": "stdout",
     "output_type": "stream",
     "text": [
      "[-0.05263158  2.94736842 -0.15789474  2.31578947]\n",
      "[-0.05263158  2.94736842 -0.15789474  2.31578947]\n",
      "[ 8.  5. -1. 10.]\n",
      "True\n"
     ]
    }
   ],
   "source": [
    "def solve_by_cramer(mA, b):\n",
    "    n = mA.shape[0]\n",
    "    det = np.linalg.det(mA)\n",
    "    xs = np.empty(n)\n",
    "    if det == 0:\n",
    "        return None\n",
    "    for i in range(n):\n",
    "        mAi = np.copy(mA)\n",
    "        mAi[:, i] = b\n",
    "        xs[i] = np.linalg.det(mAi) / det\n",
    "    return xs\n",
    "\n",
    "a = np.array([[1,2,1,1],\n",
    "              [2,1,1,1],\n",
    "              [1,-1,2,1],\n",
    "              [1,1,-1,3]])\n",
    "b = np.array([8,5,-1,10])\n",
    "roots = solve_by_cramer(a, b)\n",
    "print(roots)\n",
    "print(np.linalg.solve(a,b))\n",
    "ax = np.dot(a,roots)\n",
    "print(ax)\n",
    "print(np.allclose(ax, b))"
   ]
  },
  {
   "cell_type": "markdown",
   "metadata": {},
   "source": [
    "### 3. Calculate the value of the matrix expression."
   ]
  },
  {
   "cell_type": "markdown",
   "metadata": {},
   "source": [
    "$$\\mathit{2A-(A^{2}+B)B), A=\\begin{pmatrix}\n",
    "1 & 4 & 2\\\\ \n",
    "2 & 1  &-2 \\\\ \n",
    "0 & 1 & -1\n",
    "\\end{pmatrix}, B=\\begin{pmatrix}\n",
    "4 & 6  & -2\\\\ \n",
    "4 & 10 & 1\\\\ \n",
    "2 & 4 & -5 \n",
    "\\end{pmatrix}}$$"
   ]
  },
  {
   "cell_type": "code",
   "execution_count": 29,
   "metadata": {},
   "outputs": [
    {
     "data": {
      "text/plain": [
       "array([[ -18, -124,    8],\n",
       "       [ -28, -108,   -9],\n",
       "       [  -4,  -18,  -22]])"
      ]
     },
     "execution_count": 29,
     "metadata": {},
     "output_type": "execute_result"
    }
   ],
   "source": [
    "A = np.array([[1, 4, 2], [2, 1, -2], [0, 1, -1]], dtype=int)\n",
    "B = np.array([[4, 6, -2], [4, 10, 1], [2, 4, -5]], dtype=int)\n",
    "2*A-(A**2+B)*B"
   ]
  },
  {
   "cell_type": "markdown",
   "metadata": {},
   "source": [
    "### 4. Solve the matrix equation using an inverse matrix and perform a test using:\n",
    " a) matrix multiplication;\n",
    " b) numpy.linalg.solve()."
   ]
  },
  {
   "cell_type": "markdown",
   "metadata": {},
   "source": [
    "$$\\begin{pmatrix}\n",
    "2 & 2 &-5 \\\\ \n",
    " 4& 2  &0 \\\\ \n",
    "1 & 1 &2 \n",
    "\\end{pmatrix}\\mathit{* X =\\begin{pmatrix}\n",
    " -1& 2 & 4\\\\ \n",
    " 0& 3 & 2\\\\ \n",
    "-1 &-3  & 4\n",
    "\\end{pmatrix}}$$"
   ]
  },
  {
   "cell_type": "code",
   "execution_count": 30,
   "metadata": {},
   "outputs": [
    {
     "name": "stdout",
     "output_type": "stream",
     "text": [
      "X array:\n",
      "  [[ 1.  3. -2.]\n",
      " [-2. -4.  5.]\n",
      " [-0. -1.  0.]] \n",
      "\n",
      "Linalg check: \n",
      " [[ 1.  3. -2.]\n",
      " [-2. -4.  5.]\n",
      " [-0. -1.  0.]] \n",
      "\n",
      "Multiplication check: \n",
      " [[-1.  2.  4.]\n",
      " [ 0.  3.  2.]\n",
      " [-1. -3.  4.]]\n"
     ]
    }
   ],
   "source": [
    "coef_matrix = np.array([[2,2,-5],\n",
    "                       [4,2,0],\n",
    "                       [1,1,2]])\n",
    "b2_matrix = np.array([[-1,2,4],\n",
    "                     [0,3,2],\n",
    "                     [-1,-3,4]])\n",
    "inverse_matrix = np.linalg.inv(coef_matrix)\n",
    "x_matrix = inverse_matrix.dot(b2_matrix)\n",
    "print(\"X array:\\n \",np.round(x_matrix),\"\\n\")\n",
    "print(\"Linalg check: \\n\",np.round(np.linalg.solve(coef_matrix,b2_matrix)),\"\\n\")\n",
    "print(\"Multiplication check: \\n\",np.round(coef_matrix.dot(x_matrix)))"
   ]
  }
 ],
 "metadata": {
  "kernelspec": {
   "display_name": "Python 3",
   "language": "python",
   "name": "python3"
  },
  "language_info": {
   "codemirror_mode": {
    "name": "ipython",
    "version": 3
   },
   "file_extension": ".py",
   "mimetype": "text/x-python",
   "name": "python",
   "nbconvert_exporter": "python",
   "pygments_lexer": "ipython3",
   "version": "3.7.9"
  }
 },
 "nbformat": 4,
 "nbformat_minor": 4
}
